{
 "cells": [
  {
   "cell_type": "markdown",
   "id": "1f149093",
   "metadata": {},
   "source": [
    "**#Ejercicio 10**\n"
   ]
  },
  {
   "cell_type": "markdown",
   "id": "4f9bd077",
   "metadata": {},
   "source": [
    "Esta funcion se encarga de abrir los 3 archivos con los que voy a trabajar en modo lectura"
   ]
  },
  {
   "cell_type": "code",
   "execution_count": null,
   "id": "e93b031e",
   "metadata": {},
   "outputs": [],
   "source": [
    "def abrir_archivos():\n",
    "    anombres=open (\"nombres_1.txt\",\"r\", encoding=\"UTF-8\")\n",
    "    aeval1=open(\"eval1.txt\",\"r\", encoding=\"UTF-8\")\n",
    "    aeval2=open(\"eval2.txt\",\"r\", encoding=\"UTF-8\")\n",
    "    return anombres,aeval1,aeval2"
   ]
  },
  {
   "cell_type": "markdown",
   "id": "6989216c",
   "metadata": {},
   "source": [
    "Esta funcion se encarga de eliminar la coma de los nombres de los estudiantes"
   ]
  },
  {
   "cell_type": "code",
   "execution_count": null,
   "id": "26f08115",
   "metadata": {},
   "outputs": [],
   "source": [
    "def limpiar_archivo (archivo):\n",
    "    for i in range (0,len(archivo)) :\n",
    "       archivo[i]=archivo[i].replace(\",\",\"\")\n",
    "    return archivo"
   ]
  },
  {
   "cell_type": "markdown",
   "id": "cd119901",
   "metadata": {},
   "source": [
    "Invoco a la funcion para abrir los archivos y los separo para poder procesarlos"
   ]
  },
  {
   "cell_type": "code",
   "execution_count": null,
   "id": "21a1bae4",
   "metadata": {},
   "outputs": [],
   "source": [
    "nombres,eval1,eval2=abrir_archivos()\n",
    "nombres=nombres.read().split()\n",
    "eval1=eval1.read().split(\",\")\n",
    "eval2=eval2.read().split(\",\")\n",
    "nombres=limpiar_archivo(nombres)"
   ]
  },
  {
   "cell_type": "markdown",
   "id": "0899c6ce",
   "metadata": {},
   "source": [
    "Invoco a la funcion para limpiar los nombres de comas."
   ]
  },
  {
   "cell_type": "code",
   "execution_count": null,
   "id": "378f151a",
   "metadata": {},
   "outputs": [],
   "source": [
    "nombres=limpiar_archivo(nombres)"
   ]
  },
  {
   "cell_type": "markdown",
   "id": "5c96888f",
   "metadata": {},
   "source": [
    "Inicializo las 2 estructuras con las que voy a trabjar: un diccionario para guardar cada nombre con su nota y una lista para tener los promedios de cada uno de los alumnos."
   ]
  },
  {
   "cell_type": "code",
   "execution_count": null,
   "id": "4958a19a",
   "metadata": {},
   "outputs": [],
   "source": [
    "promedio=[]\n",
    "estructura={}"
   ]
  },
  {
   "cell_type": "markdown",
   "id": "eac186a0",
   "metadata": {},
   "source": [
    "Recorro la lista de nombres, sumo las dos notas del alumno y guardo en el diccionario el nombre del alumno (clave) con la suma de sus notas (valor). Ademas, a la lista de promedios sumo el promedio de las notas."
   ]
  },
  {
   "cell_type": "code",
   "execution_count": null,
   "id": "3c6460f8",
   "metadata": {},
   "outputs": [],
   "source": [
    "for i in range (0,len(nombres)):\n",
    "    suma=float(eval1[i])+float(eval2[i])\n",
    "    estructura[nombres[i]]=suma\n",
    "    promedio.append(suma/2)"
   ]
  },
  {
   "cell_type": "markdown",
   "id": "85d80f33",
   "metadata": {},
   "source": [
    "Calculo el promedio general y lo informo."
   ]
  },
  {
   "cell_type": "code",
   "execution_count": null,
   "id": "5e0ad516",
   "metadata": {},
   "outputs": [],
   "source": [
    "promedio=sum (promedio)/float(len(promedio))\n",
    "print (f\"PROMEDIO {promedio}\")"
   ]
  },
  {
   "cell_type": "markdown",
   "id": "86280fe2",
   "metadata": {},
   "source": [
    "Proceso el diccionario y consulto si el alumno tiene un promedio mayor que el promedio general. Si no es el caso, lo informo."
   ]
  },
  {
   "cell_type": "code",
   "execution_count": null,
   "id": "080fead1",
   "metadata": {},
   "outputs": [],
   "source": [
    "for clave in estructura.keys():\n",
    "    if (estructura[clave]/2<promedio):\n",
    "        print (f\"EL ALUMNO {clave} tuvo un prmedio de {estructura[clave]/2} por lo que no supero el promedio\")"
   ]
  }
 ],
 "metadata": {
  "kernelspec": {
   "display_name": "Python 3 (ipykernel)",
   "language": "python",
   "name": "python3"
  },
  "language_info": {
   "codemirror_mode": {
    "name": "ipython",
    "version": 3
   },
   "file_extension": ".py",
   "mimetype": "text/x-python",
   "name": "python",
   "nbconvert_exporter": "python",
   "pygments_lexer": "ipython3",
   "version": "3.9.7"
  }
 },
 "nbformat": 4,
 "nbformat_minor": 5
}
